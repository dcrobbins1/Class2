{
 "cells": [
  {
   "cell_type": "code",
   "execution_count": 18,
   "id": "476f9614",
   "metadata": {},
   "outputs": [
    {
     "name": "stdout",
     "output_type": "stream",
     "text": [
      "7\n",
      "data\n",
      "10\n",
      "15\n"
     ]
    }
   ],
   "source": [
    "x = 7\n",
    "y = \"data\"\n",
    "\n",
    "print(x)\n",
    "print(y)\n",
    "\n",
    "my_variable = 10\n",
    "print(my_variable)\n",
    "\n",
    "my_variable += 5\n",
    "print(my_variable)\n",
    "\n",
    "\n"
   ]
  },
  {
   "cell_type": "markdown",
   "id": "7545ac42",
   "metadata": {},
   "source": [
    "Working with Strings"
   ]
  },
  {
   "cell_type": "code",
   "execution_count": 19,
   "id": "9894028e",
   "metadata": {},
   "outputs": [
    {
     "name": "stdout",
     "output_type": "stream",
     "text": [
      "What are you studying?\n",
      "Analytics!\n",
      "What are you studying? Analytics!\n",
      "What are you studying? Analytics!\n",
      "What are you studying?\n",
      "Analytics!\n"
     ]
    },
    {
     "data": {
      "text/plain": [
       "str"
      ]
     },
     "execution_count": 19,
     "metadata": {},
     "output_type": "execute_result"
    }
   ],
   "source": [
    "\"I am a MSBA student\"\n",
    "\n",
    "question = \"What are you studying?\"\n",
    "answer = \"Analytics!\"\n",
    "\n",
    "print(question)\n",
    "print(answer)\n",
    "\n",
    "print(question + \" \" + answer) # cancatinating using standard format\n",
    "print(f\"{question} {answer}\") # cancatinating using f string format\n",
    "\n",
    "print(question + \"\\n\" + answer) # line break\n",
    "\n",
    "type(answer)\n"
   ]
  },
  {
   "cell_type": "code",
   "execution_count": 20,
   "id": "371d28d7",
   "metadata": {},
   "outputs": [
    {
     "data": {
      "text/plain": [
       "10"
      ]
     },
     "execution_count": 20,
     "metadata": {},
     "output_type": "execute_result"
    }
   ],
   "source": [
    "len(answer)"
   ]
  },
  {
   "cell_type": "code",
   "execution_count": 22,
   "id": "28d85e9a",
   "metadata": {},
   "outputs": [
    {
     "data": {
      "text/plain": [
       "'!'"
      ]
     },
     "execution_count": 22,
     "metadata": {},
     "output_type": "execute_result"
    }
   ],
   "source": [
    "## Indexing a string\n",
    "\n",
    "answer[0] # first character\n",
    "answer[2] # third character\n",
    "answer[9] # tenth character\n",
    "answer[-1] # last character"
   ]
  },
  {
   "cell_type": "code",
   "execution_count": null,
   "id": "b76ba449",
   "metadata": {},
   "outputs": [
    {
     "name": "stdout",
     "output_type": "stream",
     "text": [
      "CT\n"
     ]
    }
   ],
   "source": [
    "course = \"CTBA\"\n",
    "\n",
    "len(course)\n",
    "\n",
    "print(course[0:2]) # first two characters (this is exclusive). including indeces 0,1; excluding 2\n",
    "\n",
    "\n"
   ]
  },
  {
   "cell_type": "code",
   "execution_count": null,
   "id": "b0db9fe9",
   "metadata": {},
   "outputs": [
    {
     "name": "stdout",
     "output_type": "stream",
     "text": [
      "ANALYTICS!\n",
      "analytics!\n"
     ]
    },
    {
     "data": {
      "text/plain": [
       "5"
      ]
     },
     "execution_count": 30,
     "metadata": {},
     "output_type": "execute_result"
    }
   ],
   "source": [
    "## functions and methods\n",
    "\n",
    "answer_cap = answer.upper() # convert to uppercase\n",
    "print(answer_cap)\n",
    "\n",
    "answer_lower = answer.lower()\n",
    "print(answer_lower)\n",
    "\n",
    "answer.find(\"t\") # find index of the first occurence of \"t\""
   ]
  },
  {
   "cell_type": "code",
   "execution_count": null,
   "id": "e307c7ef",
   "metadata": {},
   "outputs": [
    {
     "name": "stdout",
     "output_type": "stream",
     "text": [
      "Hello, my name is Daniel Robbins. I am studying Business Analytics.\n",
      "Hello my name is Daniel Robbins. I am studying Business Analytics\n"
     ]
    }
   ],
   "source": [
    "name = \"Daniel Robbins\"\n",
    "print(\"Hello, my name is \" + name + \". I am studying Business Analytics.\")\n",
    "print(f\"Hello,  my name is {name}. I am studying Business Analytics\")"
   ]
  },
  {
   "cell_type": "code",
   "execution_count": null,
   "id": "fceef3ab",
   "metadata": {},
   "outputs": [
    {
     "name": "stdout",
     "output_type": "stream",
     "text": [
      "(1, 2, 3, 4, 5)\n"
     ]
    }
   ],
   "source": [
    "## Tuples\n",
    "\n",
    "t1 = (1, 2, 3, 4, 5)\n",
    "print(t1)\n",
    "\n",
    "# t1[0] = 11 # Tuples are immutable, will produce error"
   ]
  },
  {
   "cell_type": "code",
   "execution_count": null,
   "id": "9a6e3c66",
   "metadata": {},
   "outputs": [
    {
     "name": "stdout",
     "output_type": "stream",
     "text": [
      "{'name': 'Daniel Robbins', 'age': 21, 'city': 'Wheaton'}\n",
      "Daniel Robbins\n",
      "{'name': 'Daniel Robbins', 'age': 21, 'city': 'Wheaton', 'email': 'dcrobbins@wm.edu'}\n",
      "name : Daniel Robbins\n",
      "age : 21\n",
      "city : Wheaton\n",
      "email : dcrobbins@wm.edu\n"
     ]
    }
   ],
   "source": [
    "d1 = {\"name\" : \"Daniel Robbins\", \"age\": 21, \"city\": \"Wheaton\"}\n",
    "print(d1)\n",
    "print(d1[\"name\"])\n",
    "\n",
    "d1[\"email\"] = \"dcrobbins@wm.edu\"\n",
    "print(d1)\n"
   ]
  },
  {
   "cell_type": "code",
   "execution_count": null,
   "id": "6351f01c",
   "metadata": {},
   "outputs": [],
   "source": [
    "## formatting the dictionary with a for loop\n",
    "\n",
    "for key, value in d1.items():\n",
    "    print(key, \":\", value)"
   ]
  },
  {
   "cell_type": "code",
   "execution_count": 41,
   "id": "735c5f4a",
   "metadata": {},
   "outputs": [],
   "source": [
    "people = {    \n",
    "    \"person1\": {\"name\": \"Schlosser\", \"age\": 23, \"city\": \"Williamsburg\"},\n",
    "    \"person2\": {\"name\": \"Smith\", \"age\": 30, \"city\": \"Newport News\"}\n",
    "}"
   ]
  },
  {
   "cell_type": "code",
   "execution_count": 42,
   "id": "afd55f12",
   "metadata": {},
   "outputs": [
    {
     "name": "stdout",
     "output_type": "stream",
     "text": [
      "{'A': {'B': 10, 'C': 15}, 'B': {'A': 10, 'C': 20}, 'C': {'A': 15, 'B': 20}}\n"
     ]
    }
   ],
   "source": [
    "distances = {\n",
    "    \"A\": {\"B\": 10, \"C\": 15},\n",
    "    \"B\": {\"A\": 10, \"C\": 20},\n",
    "    \"C\": {\"A\": 15, \"B\": 20}\n",
    "}\n",
    "\n",
    "print(distances)"
   ]
  },
  {
   "cell_type": "code",
   "execution_count": 45,
   "id": "579e4d65",
   "metadata": {},
   "outputs": [
    {
     "name": "stdout",
     "output_type": "stream",
     "text": [
      "{'Bryce': 3.8, 'Mann': 3.6, 'Tai': 3.4}\n",
      "{'Bryce': {'gpa': 3.8, 'major': 'BA', 'numofcourses': '5'}, 'Mann': {'gpa': 3.6, 'major': 'BA', 'numofcourses': '5'}, 'Tai': {'gpa': 3.4, 'major': 'BA', 'numofcourses': '5'}, 'Conner': {'gpa': 3.2, 'major': 'BA', 'numofcourses': '5'}}\n"
     ]
    }
   ],
   "source": [
    "student_gpa = {\"Bryce\" : 3.8, \"Mann\": 3.6, \"Tai\":3.4, }\n",
    "print(student_gpa)\n",
    "\n",
    "student_gpa = {\n",
    "    \"Bryce\":{\"gpa\": 3.8, \"major\":\"BA\", \"numofcourses\": \"5\"},\n",
    "    \"Mann\":{\"gpa\": 3.6, \"major\":\"BA\", \"numofcourses\": \"5\"},\n",
    "    \"Tai\":{\"gpa\": 3.4,\"major\":\"BA\", \"numofcourses\": \"5\"},\n",
    "    \"Conner\" :{\"gpa\": 3.2,\"major\":\"BA\", \"numofcourses\": \"5\"}\n",
    "}\n",
    "print(student_gpa)"
   ]
  },
  {
   "cell_type": "code",
   "execution_count": null,
   "id": "b9b644de",
   "metadata": {},
   "outputs": [
    {
     "name": "stdout",
     "output_type": "stream",
     "text": [
      "x is greater than 5\n",
      "x is odd\n"
     ]
    }
   ],
   "source": [
    "# if statements\n",
    "\n",
    "x = 10\n",
    "if x > 5:\n",
    "    print(\"x is greater than 5\")\n",
    "    \n",
    "# if-else\n",
    "\n",
    "x = 4\n",
    "if x % 2 == 0:\n",
    "    print(\"x is even\")\n",
    "else:\n",
    "    print(\"x is odd\")\n"
   ]
  },
  {
   "cell_type": "code",
   "execution_count": null,
   "id": "8d5b5abb",
   "metadata": {},
   "outputs": [
    {
     "name": "stdout",
     "output_type": "stream",
     "text": [
      "Zero\n"
     ]
    }
   ],
   "source": [
    "# elif\n",
    "\n",
    "x = 0\n",
    "if x > 0:\n",
    "    print(\"Positive\")\n",
    "elif x == 0:\n",
    "    print(\"Zero\")\n",
    "else:\n",
    "    print(\"Negative\")"
   ]
  },
  {
   "cell_type": "code",
   "execution_count": 52,
   "id": "41879cd5",
   "metadata": {},
   "outputs": [
    {
     "name": "stdout",
     "output_type": "stream",
     "text": [
      "i is 0\n",
      "i is 1\n",
      "i is 2\n",
      "i is 3\n",
      "i is 4\n",
      "0 is even\n",
      "1 is odd\n",
      "2 is even\n",
      "3 is odd\n",
      "4 is even\n"
     ]
    }
   ],
   "source": [
    "## for loops\n",
    "\n",
    "for i in range(5):\n",
    "    print(\"i is\", i)\n",
    "    \n",
    "## while loops\n",
    "\n",
    "x = 0\n",
    "while x < 5:\n",
    "    if x % 2 == 0:\n",
    "        print(x, \"is even\")\n",
    "    else:\n",
    "        print(x, \"is odd\")\n",
    "    x += 1"
   ]
  },
  {
   "cell_type": "code",
   "execution_count": 54,
   "id": "18583d45",
   "metadata": {},
   "outputs": [],
   "source": [
    "import numpy as np"
   ]
  },
  {
   "cell_type": "code",
   "execution_count": null,
   "id": "f0e14027",
   "metadata": {},
   "outputs": [
    {
     "name": "stdout",
     "output_type": "stream",
     "text": [
      "[1, 2, 3, 4, 5]\n"
     ]
    }
   ],
   "source": [
    "list1 = [1,2,3,4,5]\n",
    "print(list1)\n",
    "list2 = [(1,2,3),(4,5,6)]\n",
    "print(list2)\n",
    "\n",
    "arr2 = np.array([(1,2,3),(4,5,6)])\n",
    "print(arr2)\n"
   ]
  },
  {
   "cell_type": "code",
   "execution_count": null,
   "id": "eef9466c",
   "metadata": {},
   "outputs": [
    {
     "name": "stdout",
     "output_type": "stream",
     "text": [
      "[[1 2 3]\n",
      " [4 5 6]]\n"
     ]
    }
   ],
   "source": [
    "list = [1,2,3]\n",
    "arr1 = np.array([1,2,3])\n",
    "\n",
    "for e in list:\n",
    "    print(e)\n",
    "for e in arr1:\n",
    "    print(e)"
   ]
  },
  {
   "cell_type": "code",
   "execution_count": 56,
   "id": "407fa106",
   "metadata": {},
   "outputs": [
    {
     "name": "stdout",
     "output_type": "stream",
     "text": [
      "1\n",
      "2\n",
      "3\n",
      "4\n",
      "5\n"
     ]
    }
   ],
   "source": [
    "arr1 = np.array([1,2,3])\n",
    "\n",
    "arr1 = np.append(arr1,4)\n",
    "arr1 = np.append(arr1,[5]) #Append another element\n",
    "for e in arr1:\n",
    "    print(e)"
   ]
  },
  {
   "cell_type": "code",
   "execution_count": null,
   "id": "0cdf7540",
   "metadata": {},
   "outputs": [],
   "source": [
    "arr2 = arr1 + arr1\n",
    "for e in arr2:\n",
    "    print(e)"
   ]
  }
 ],
 "metadata": {
  "kernelspec": {
   "display_name": "CTBA",
   "language": "python",
   "name": "python3"
  },
  "language_info": {
   "codemirror_mode": {
    "name": "ipython",
    "version": 3
   },
   "file_extension": ".py",
   "mimetype": "text/x-python",
   "name": "python",
   "nbconvert_exporter": "python",
   "pygments_lexer": "ipython3",
   "version": "3.13.5"
  }
 },
 "nbformat": 4,
 "nbformat_minor": 5
}
